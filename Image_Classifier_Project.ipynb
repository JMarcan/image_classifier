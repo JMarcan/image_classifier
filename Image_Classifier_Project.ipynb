{
  "nbformat": 4,
  "nbformat_minor": 0,
  "metadata": {
    "kernelspec": {
      "name": "python3",
      "display_name": "Python 3"
    },
    "language_info": {
      "codemirror_mode": {
        "name": "ipython",
        "version": 3
      },
      "file_extension": ".py",
      "mimetype": "text/x-python",
      "name": "python",
      "nbconvert_exporter": "python",
      "pygments_lexer": "ipython3",
      "version": "3.7.6"
    },
    "colab": {
      "name": "Image Classifier Project.ipynb",
      "provenance": [],
      "collapsed_sections": [],
      "toc_visible": true
    },
    "widgets": {
      "application/vnd.jupyter.widget-state+json": {
        "3e48c40929cf422e9780f8b0a80b2ba1": {
          "model_module": "@jupyter-widgets/controls",
          "model_name": "HBoxModel",
          "state": {
            "_view_name": "HBoxView",
            "_dom_classes": [],
            "_model_name": "HBoxModel",
            "_view_module": "@jupyter-widgets/controls",
            "_model_module_version": "1.5.0",
            "_view_count": null,
            "_view_module_version": "1.5.0",
            "box_style": "",
            "layout": "IPY_MODEL_9b76b64cd45f4e0bb2c888226bd89e5f",
            "_model_module": "@jupyter-widgets/controls",
            "children": [
              "IPY_MODEL_84352e9835354eb6a3029c56d89932d8",
              "IPY_MODEL_8a8e73574b224619b046668694e8c4cd"
            ]
          }
        },
        "9b76b64cd45f4e0bb2c888226bd89e5f": {
          "model_module": "@jupyter-widgets/base",
          "model_name": "LayoutModel",
          "state": {
            "_view_name": "LayoutView",
            "grid_template_rows": null,
            "right": null,
            "justify_content": null,
            "_view_module": "@jupyter-widgets/base",
            "overflow": null,
            "_model_module_version": "1.2.0",
            "_view_count": null,
            "flex_flow": null,
            "width": null,
            "min_width": null,
            "border": null,
            "align_items": null,
            "bottom": null,
            "_model_module": "@jupyter-widgets/base",
            "top": null,
            "grid_column": null,
            "overflow_y": null,
            "overflow_x": null,
            "grid_auto_flow": null,
            "grid_area": null,
            "grid_template_columns": null,
            "flex": null,
            "_model_name": "LayoutModel",
            "justify_items": null,
            "grid_row": null,
            "max_height": null,
            "align_content": null,
            "visibility": null,
            "align_self": null,
            "height": null,
            "min_height": null,
            "padding": null,
            "grid_auto_rows": null,
            "grid_gap": null,
            "max_width": null,
            "order": null,
            "_view_module_version": "1.2.0",
            "grid_template_areas": null,
            "object_position": null,
            "object_fit": null,
            "grid_auto_columns": null,
            "margin": null,
            "display": null,
            "left": null
          }
        },
        "84352e9835354eb6a3029c56d89932d8": {
          "model_module": "@jupyter-widgets/controls",
          "model_name": "IntProgressModel",
          "state": {
            "_view_name": "ProgressView",
            "style": "IPY_MODEL_9a65a587f3b640fab04dbcf667d3b97d",
            "_dom_classes": [],
            "description": "100%",
            "_model_name": "IntProgressModel",
            "bar_style": "success",
            "max": 553433881,
            "_view_module": "@jupyter-widgets/controls",
            "_model_module_version": "1.5.0",
            "value": 553433881,
            "_view_count": null,
            "_view_module_version": "1.5.0",
            "orientation": "horizontal",
            "min": 0,
            "description_tooltip": null,
            "_model_module": "@jupyter-widgets/controls",
            "layout": "IPY_MODEL_e1fee38d100048eaa20f6c8ff2967aa8"
          }
        },
        "8a8e73574b224619b046668694e8c4cd": {
          "model_module": "@jupyter-widgets/controls",
          "model_name": "HTMLModel",
          "state": {
            "_view_name": "HTMLView",
            "style": "IPY_MODEL_06c6f95023b248acb34b6b3dfa7d7955",
            "_dom_classes": [],
            "description": "",
            "_model_name": "HTMLModel",
            "placeholder": "​",
            "_view_module": "@jupyter-widgets/controls",
            "_model_module_version": "1.5.0",
            "value": " 528M/528M [48:01&lt;00:00, 192kB/s]",
            "_view_count": null,
            "_view_module_version": "1.5.0",
            "description_tooltip": null,
            "_model_module": "@jupyter-widgets/controls",
            "layout": "IPY_MODEL_fe2c2b10df4a466c9969ef07c00c8322"
          }
        },
        "9a65a587f3b640fab04dbcf667d3b97d": {
          "model_module": "@jupyter-widgets/controls",
          "model_name": "ProgressStyleModel",
          "state": {
            "_view_name": "StyleView",
            "_model_name": "ProgressStyleModel",
            "description_width": "initial",
            "_view_module": "@jupyter-widgets/base",
            "_model_module_version": "1.5.0",
            "_view_count": null,
            "_view_module_version": "1.2.0",
            "bar_color": null,
            "_model_module": "@jupyter-widgets/controls"
          }
        },
        "e1fee38d100048eaa20f6c8ff2967aa8": {
          "model_module": "@jupyter-widgets/base",
          "model_name": "LayoutModel",
          "state": {
            "_view_name": "LayoutView",
            "grid_template_rows": null,
            "right": null,
            "justify_content": null,
            "_view_module": "@jupyter-widgets/base",
            "overflow": null,
            "_model_module_version": "1.2.0",
            "_view_count": null,
            "flex_flow": null,
            "width": null,
            "min_width": null,
            "border": null,
            "align_items": null,
            "bottom": null,
            "_model_module": "@jupyter-widgets/base",
            "top": null,
            "grid_column": null,
            "overflow_y": null,
            "overflow_x": null,
            "grid_auto_flow": null,
            "grid_area": null,
            "grid_template_columns": null,
            "flex": null,
            "_model_name": "LayoutModel",
            "justify_items": null,
            "grid_row": null,
            "max_height": null,
            "align_content": null,
            "visibility": null,
            "align_self": null,
            "height": null,
            "min_height": null,
            "padding": null,
            "grid_auto_rows": null,
            "grid_gap": null,
            "max_width": null,
            "order": null,
            "_view_module_version": "1.2.0",
            "grid_template_areas": null,
            "object_position": null,
            "object_fit": null,
            "grid_auto_columns": null,
            "margin": null,
            "display": null,
            "left": null
          }
        },
        "06c6f95023b248acb34b6b3dfa7d7955": {
          "model_module": "@jupyter-widgets/controls",
          "model_name": "DescriptionStyleModel",
          "state": {
            "_view_name": "StyleView",
            "_model_name": "DescriptionStyleModel",
            "description_width": "",
            "_view_module": "@jupyter-widgets/base",
            "_model_module_version": "1.5.0",
            "_view_count": null,
            "_view_module_version": "1.2.0",
            "_model_module": "@jupyter-widgets/controls"
          }
        },
        "fe2c2b10df4a466c9969ef07c00c8322": {
          "model_module": "@jupyter-widgets/base",
          "model_name": "LayoutModel",
          "state": {
            "_view_name": "LayoutView",
            "grid_template_rows": null,
            "right": null,
            "justify_content": null,
            "_view_module": "@jupyter-widgets/base",
            "overflow": null,
            "_model_module_version": "1.2.0",
            "_view_count": null,
            "flex_flow": null,
            "width": null,
            "min_width": null,
            "border": null,
            "align_items": null,
            "bottom": null,
            "_model_module": "@jupyter-widgets/base",
            "top": null,
            "grid_column": null,
            "overflow_y": null,
            "overflow_x": null,
            "grid_auto_flow": null,
            "grid_area": null,
            "grid_template_columns": null,
            "flex": null,
            "_model_name": "LayoutModel",
            "justify_items": null,
            "grid_row": null,
            "max_height": null,
            "align_content": null,
            "visibility": null,
            "align_self": null,
            "height": null,
            "min_height": null,
            "padding": null,
            "grid_auto_rows": null,
            "grid_gap": null,
            "max_width": null,
            "order": null,
            "_view_module_version": "1.2.0",
            "grid_template_areas": null,
            "object_position": null,
            "object_fit": null,
            "grid_auto_columns": null,
            "margin": null,
            "display": null,
            "left": null
          }
        }
      }
    },
    "accelerator": "GPU"
  },
  "cells": [
    {
      "cell_type": "markdown",
      "metadata": {
        "id": "YEbEKwNMBEyn",
        "colab_type": "text"
      },
      "source": [
        "# Developing an Image Classifier using Deep Learning network and transfer learning\n",
        "\n",
        "In this project, I'll train an image classifier to recognize image categories.\n",
        "\n",
        "You can imagine using something like this in a phone app that tells you the name of the flower your camera is looking at. In practice you'd train this classifier, then export it for use in your application. We'll be using [this dataset](http://www.robots.ox.ac.uk/~vgg/data/flowers/102/index.html) of 102 flower categories, you can see a few examples below. \n",
        "\n",
        "<img src='assets/Flowers.png' width=500px>\n",
        "\n",
        "The project is broken down into multiple steps:\n",
        "\n",
        "* Load and preprocess the image dataset\n",
        "* Train the image classifier on your dataset\n",
        "* Use the trained classifier to predict image content\n",
        "\n",
        "Please make sure if you are running this notebook in the workspace that you have chosen GPU rather than CPU mode. Deep learning runs way faster on GPU."
      ]
    },
    {
      "cell_type": "code",
      "metadata": {
        "id": "wEbGZp1-BEys",
        "colab_type": "code",
        "colab": {}
      },
      "source": [
        "# Imports\n",
        "import torch\n",
        "from torch import nn\n",
        "from torch import optim\n",
        "from torchvision import datasets, transforms, models\n",
        "import time\n",
        "import json\n",
        "from PIL import Image\n",
        "import numpy as np\n",
        "import matplotlib.pyplot as plt\n",
        "import seaborn\n",
        "from collections import OrderedDict\n",
        "from torch.optim import lr_scheduler\n",
        "import copy\n",
        "import pandas as pd"
      ],
      "execution_count": 0,
      "outputs": []
    },
    {
      "cell_type": "code",
      "metadata": {
        "id": "mcLm3cAwv6k0",
        "colab_type": "code",
        "outputId": "2de129ad-6af8-44d8-b9c8-4b6e11405a50",
        "colab": {
          "base_uri": "https://localhost:8080/",
          "height": 329
        }
      },
      "source": [
        "# Show allocated GPU (Google Colab Notebooks specific)\n",
        "gpu_info = !nvidia-smi\n",
        "gpu_info = '\\n'.join(gpu_info)\n",
        "if gpu_info.find('failed') >= 0:\n",
        "  print('Select the Runtime → \"Change runtime type\" menu to enable a GPU accelerator, ')\n",
        "  print('and then re-execute this cell.')\n",
        "else:\n",
        "  print(gpu_info)"
      ],
      "execution_count": 2,
      "outputs": [
        {
          "output_type": "stream",
          "text": [
            "Thu Apr 30 19:35:33 2020       \n",
            "+-----------------------------------------------------------------------------+\n",
            "| NVIDIA-SMI 440.64.00    Driver Version: 418.67       CUDA Version: 10.1     |\n",
            "|-------------------------------+----------------------+----------------------+\n",
            "| GPU  Name        Persistence-M| Bus-Id        Disp.A | Volatile Uncorr. ECC |\n",
            "| Fan  Temp  Perf  Pwr:Usage/Cap|         Memory-Usage | GPU-Util  Compute M. |\n",
            "|===============================+======================+======================|\n",
            "|   0  Tesla P4            Off  | 00000000:00:04.0 Off |                    0 |\n",
            "| N/A   38C    P8     7W /  75W |      0MiB /  7611MiB |      0%      Default |\n",
            "+-------------------------------+----------------------+----------------------+\n",
            "                                                                               \n",
            "+-----------------------------------------------------------------------------+\n",
            "| Processes:                                                       GPU Memory |\n",
            "|  GPU       PID   Type   Process name                             Usage      |\n",
            "|=============================================================================|\n",
            "|  No running processes found                                                 |\n",
            "+-----------------------------------------------------------------------------+\n"
          ],
          "name": "stdout"
        }
      ]
    },
    {
      "cell_type": "code",
      "metadata": {
        "id": "LlAEUZ69ytim",
        "colab_type": "code",
        "outputId": "9baa5cb1-0247-4717-e892-e423c61f16f0",
        "colab": {
          "base_uri": "https://localhost:8080/",
          "height": 109
        }
      },
      "source": [
        "# Show allocated memory (Google Colab Notebooks specific)\n",
        "from psutil import virtual_memory\n",
        "ram_gb = virtual_memory().total / 1e9\n",
        "print('Your runtime has {:.1f} gigabytes of available RAM\\n'.format(ram_gb))\n",
        "\n",
        "if ram_gb < 20:\n",
        "  print('To enable a high-RAM runtime, select the Runtime → \"Change runtime type\"')\n",
        "  print('menu, and then select High-RAM in the Runtime shape dropdown. Then, ')\n",
        "  print('re-execute this cell.')\n",
        "else:\n",
        "  print('You are using a high-RAM runtime!')"
      ],
      "execution_count": 0,
      "outputs": [
        {
          "output_type": "stream",
          "text": [
            "Your runtime has 13.7 gigabytes of available RAM\n",
            "\n",
            "To enable a high-RAM runtime, select the Runtime → \"Change runtime type\"\n",
            "menu, and then select High-RAM in the Runtime shape dropdown. Then, \n",
            "re-execute this cell.\n"
          ],
          "name": "stdout"
        }
      ]
    },
    {
      "cell_type": "code",
      "metadata": {
        "id": "nF_NBa39Tr8Q",
        "colab_type": "code",
        "outputId": "9eb55513-a89f-4658-993e-b3b1d9d6f4ed",
        "colab": {
          "base_uri": "https://localhost:8080/",
          "height": 129
        }
      },
      "source": [
        "# Mount a google drive where data are stored (Google Colab Notebooks specific)\n",
        "from google.colab import drive\n",
        "drive.mount('/content/drive')"
      ],
      "execution_count": 3,
      "outputs": [
        {
          "output_type": "stream",
          "text": [
            "Go to this URL in a browser: https://accounts.google.com/o/oauth2/auth?client_id=947318989803-6bn6qk8qdgf4n4g3pfee6491hc0brc4i.apps.googleusercontent.com&redirect_uri=urn%3aietf%3awg%3aoauth%3a2.0%3aoob&response_type=code&scope=email%20https%3a%2f%2fwww.googleapis.com%2fauth%2fdocs.test%20https%3a%2f%2fwww.googleapis.com%2fauth%2fdrive%20https%3a%2f%2fwww.googleapis.com%2fauth%2fdrive.photos.readonly%20https%3a%2f%2fwww.googleapis.com%2fauth%2fpeopleapi.readonly\n",
            "\n",
            "Enter your authorization code:\n",
            "··········\n",
            "Mounted at /content/drive\n"
          ],
          "name": "stdout"
        }
      ]
    },
    {
      "cell_type": "markdown",
      "metadata": {
        "id": "Pvmy673eBEy3",
        "colab_type": "text"
      },
      "source": [
        "# Load the data\n",
        "\n",
        "Here I use `torchvision` to load the data ([documentation](http://pytorch.org/docs/0.3.0/torchvision/index.html)). The data  can be downloaded here ([data for download](https://s3.amazonaws.com/content.udacity-data.com/nd089/flower_data.tar.gz)). The dataset is split into three parts, training, validation, and testing. For the training, we will apply transformations such as random scaling, cropping, and flipping. This will help the network generalize leading to better performance. We'll also need to make sure the input data is resized to 224x224 pixels as required by the pre-trained networks.\n",
        "\n",
        "The validation and testing sets are used to measure the model's performance on data it hasn't seen yet. For this we don't want any scaling or rotation transformations, but we'll need to resize then crop the images to the appropriate size.\n",
        "\n",
        "The pre-trained networks I will use were trained on the ImageNet dataset where each color channel was normalized separately. For all three sets we'll need to normalize the means and standard deviations of the images to what the network expects. For the means, it's `[0.485, 0.456, 0.406]` and for the standard deviations `[0.229, 0.224, 0.225]`, calculated from the ImageNet images.  These values will shift each color channel to be centered at 0 and range from -1 to 1."
      ]
    },
    {
      "cell_type": "markdown",
      "metadata": {
        "id": "lKl6auP60lCY",
        "colab_type": "text"
      },
      "source": [
        "## Load the data and apply transformations\n"
      ]
    },
    {
      "cell_type": "code",
      "metadata": {
        "id": "91JnpRVNBEy9",
        "colab_type": "code",
        "colab": {}
      },
      "source": [
        "'''\n",
        "  User-configuration window allowing you to reference our deep learning network \n",
        "  to your dataset and train it against it. \n",
        "  \n",
        "  You can configure here image augmentation that will be used for training data.\n",
        "'''\n",
        "\n",
        "# Define folders\n",
        "google_drive_dir = '/content/drive/My Drive/Colab Notebooks/'\n",
        "data_dir = google_drive_dir + 'data'\n",
        "train_dir = data_dir + '/train'\n",
        "valid_dir = data_dir + '/valid'\n",
        "test_dir = data_dir + '/test'\n",
        "\n",
        "# Define number of possible categories that our network must recognize in your data\n",
        "labels_output_categories = 102\n",
        "\n",
        "# File with maping between label ids and their names\n",
        "label_map_file = google_drive_dir + \"/cat_to_name.json\"\n",
        "\n",
        "# Define means and stds for images\n",
        "means = [0.485, 0.456, 0.406]\n",
        "stds = [0.229, 0.224, 0.225]\n",
        "\n",
        "# Define  transforms for the training, validation, and testing sets\n",
        "train_transforms = transforms.Compose([\n",
        "    # data augmentation\n",
        "    transforms.RandomRotation(45),\n",
        "    transforms.RandomHorizontalFlip(),\n",
        "    transforms.RandomResizedCrop(224),\n",
        "    # data normalization\n",
        "    transforms.ToTensor(),\n",
        "    transforms.Normalize(means,stds)\n",
        "])\n",
        "\n",
        "testing_transforms = transforms.Compose([\n",
        "    # data normalization\n",
        "    transforms.Resize(256),\n",
        "    transforms.CenterCrop(224),\n",
        "    transforms.ToTensor(),\n",
        "    transforms.Normalize(means,stds)\n",
        "])\n",
        "\n",
        "validation_transforms = transforms.Compose([\n",
        "    # data normalization\n",
        "    transforms.Resize(256),\n",
        "    transforms.CenterCrop(224),\n",
        "    transforms.ToTensor(),\n",
        "    transforms.Normalize(means,stds)\n",
        "])\n"
      ],
      "execution_count": 0,
      "outputs": []
    },
    {
      "cell_type": "code",
      "metadata": {
        "id": "BsLFdh7zXKHm",
        "colab_type": "code",
        "colab": {}
      },
      "source": [
        "# Load the datasets with ImageFolder\n",
        "train_data = datasets.ImageFolder(train_dir, transform=train_transforms)\n",
        "test_data = datasets.ImageFolder(test_dir, transform=testing_transforms)\n",
        "validation_data = datasets.ImageFolder(valid_dir, transform=validation_transforms)\n",
        "\n",
        "# Define the dataloaders using the image datasets and image transformations \n",
        "\n",
        "dataloaders = {'train': torch.utils.data.DataLoader(train_data, batch_size=16, num_workers=0, shuffle=True),\n",
        "              'test': torch.utils.data.DataLoader(test_data, batch_size=16, num_workers=0),\n",
        "               'validation': torch.utils.data.DataLoader(validation_data, batch_size=16, num_workers=0)\n",
        "              }\n",
        "dataset_sizes = {'train': len(dataloaders['train']),\n",
        "              'test': len(dataloaders['test']),\n",
        "               'validation': len(dataloaders['validation'])}"
      ],
      "execution_count": 0,
      "outputs": []
    },
    {
      "cell_type": "markdown",
      "metadata": {
        "id": "uxRfFvVGBEzI",
        "colab_type": "text"
      },
      "source": [
        "## Label mapping\n",
        "\n",
        "We'll also need to load in a mapping from category label to category name. We can find this in the file `cat_to_name.json`. It's a JSON object which we can read with the [`json` module](https://docs.python.org/2/library/json.html). This will give you a dictionary mapping the integer encoded categories to the actual names of the flowers."
      ]
    },
    {
      "cell_type": "code",
      "metadata": {
        "id": "wbRoOF3iBEzL",
        "colab_type": "code",
        "outputId": "285fa9f7-a920-43b2-a081-6bd4352be3df",
        "colab": {
          "base_uri": "https://localhost:8080/",
          "height": 1000
        }
      },
      "source": [
        "# Load naming of output categories\n",
        "with open(label_map_file, 'r') as f:\n",
        "    label_map = json.load(f)\n",
        "\n",
        "label_map"
      ],
      "execution_count": 9,
      "outputs": [
        {
          "output_type": "execute_result",
          "data": {
            "text/plain": [
              "{'1': 'pink primrose',\n",
              " '10': 'globe thistle',\n",
              " '100': 'blanket flower',\n",
              " '101': 'trumpet creeper',\n",
              " '102': 'blackberry lily',\n",
              " '11': 'snapdragon',\n",
              " '12': \"colt's foot\",\n",
              " '13': 'king protea',\n",
              " '14': 'spear thistle',\n",
              " '15': 'yellow iris',\n",
              " '16': 'globe-flower',\n",
              " '17': 'purple coneflower',\n",
              " '18': 'peruvian lily',\n",
              " '19': 'balloon flower',\n",
              " '2': 'hard-leaved pocket orchid',\n",
              " '20': 'giant white arum lily',\n",
              " '21': 'fire lily',\n",
              " '22': 'pincushion flower',\n",
              " '23': 'fritillary',\n",
              " '24': 'red ginger',\n",
              " '25': 'grape hyacinth',\n",
              " '26': 'corn poppy',\n",
              " '27': 'prince of wales feathers',\n",
              " '28': 'stemless gentian',\n",
              " '29': 'artichoke',\n",
              " '3': 'canterbury bells',\n",
              " '30': 'sweet william',\n",
              " '31': 'carnation',\n",
              " '32': 'garden phlox',\n",
              " '33': 'love in the mist',\n",
              " '34': 'mexican aster',\n",
              " '35': 'alpine sea holly',\n",
              " '36': 'ruby-lipped cattleya',\n",
              " '37': 'cape flower',\n",
              " '38': 'great masterwort',\n",
              " '39': 'siam tulip',\n",
              " '4': 'sweet pea',\n",
              " '40': 'lenten rose',\n",
              " '41': 'barbeton daisy',\n",
              " '42': 'daffodil',\n",
              " '43': 'sword lily',\n",
              " '44': 'poinsettia',\n",
              " '45': 'bolero deep blue',\n",
              " '46': 'wallflower',\n",
              " '47': 'marigold',\n",
              " '48': 'buttercup',\n",
              " '49': 'oxeye daisy',\n",
              " '5': 'english marigold',\n",
              " '50': 'common dandelion',\n",
              " '51': 'petunia',\n",
              " '52': 'wild pansy',\n",
              " '53': 'primula',\n",
              " '54': 'sunflower',\n",
              " '55': 'pelargonium',\n",
              " '56': 'bishop of llandaff',\n",
              " '57': 'gaura',\n",
              " '58': 'geranium',\n",
              " '59': 'orange dahlia',\n",
              " '6': 'tiger lily',\n",
              " '60': 'pink-yellow dahlia',\n",
              " '61': 'cautleya spicata',\n",
              " '62': 'japanese anemone',\n",
              " '63': 'black-eyed susan',\n",
              " '64': 'silverbush',\n",
              " '65': 'californian poppy',\n",
              " '66': 'osteospermum',\n",
              " '67': 'spring crocus',\n",
              " '68': 'bearded iris',\n",
              " '69': 'windflower',\n",
              " '7': 'moon orchid',\n",
              " '70': 'tree poppy',\n",
              " '71': 'gazania',\n",
              " '72': 'azalea',\n",
              " '73': 'water lily',\n",
              " '74': 'rose',\n",
              " '75': 'thorn apple',\n",
              " '76': 'morning glory',\n",
              " '77': 'passion flower',\n",
              " '78': 'lotus lotus',\n",
              " '79': 'toad lily',\n",
              " '8': 'bird of paradise',\n",
              " '80': 'anthurium',\n",
              " '81': 'frangipani',\n",
              " '82': 'clematis',\n",
              " '83': 'hibiscus',\n",
              " '84': 'columbine',\n",
              " '85': 'desert-rose',\n",
              " '86': 'tree mallow',\n",
              " '87': 'magnolia',\n",
              " '88': 'cyclamen',\n",
              " '89': 'watercress',\n",
              " '9': 'monkshood',\n",
              " '90': 'canna lily',\n",
              " '91': 'hippeastrum',\n",
              " '92': 'bee balm',\n",
              " '93': 'ball moss',\n",
              " '94': 'foxglove',\n",
              " '95': 'bougainvillea',\n",
              " '96': 'camellia',\n",
              " '97': 'mallow',\n",
              " '98': 'mexican petunia',\n",
              " '99': 'bromelia'}"
            ]
          },
          "metadata": {
            "tags": []
          },
          "execution_count": 9
        }
      ]
    },
    {
      "cell_type": "markdown",
      "metadata": {
        "id": "z2TMLDlsBEzT",
        "colab_type": "text"
      },
      "source": [
        "# Build and train the classifier\n",
        "\n",
        "Now that the data is ready, it's time to build and train the classifier. We will use one of the pretrained models from `torchvision.models` to get the image features. \n",
        "\n",
        "In the next steps we will:\n",
        "* Load a [pre-trained network](http://pytorch.org/docs/master/torchvision/models.html) \n",
        "* Define a new, untrained feed-forward network as a classifier, using ReLU activations and dropout\n",
        "* Train the classifier layers using backpropagation using the pre-trained network to get the features\n",
        "* Track the loss and accuracy on the validation set to determine the best hyperparameters"
      ]
    },
    {
      "cell_type": "markdown",
      "metadata": {
        "id": "0lgIilCJ0NKf",
        "colab_type": "text"
      },
      "source": [
        "## Build the model\n"
      ]
    },
    {
      "cell_type": "code",
      "metadata": {
        "id": "EFznnGzwBEzX",
        "colab_type": "code",
        "outputId": "ce658843-07c2-478f-9b9b-2bd0e8a8ae59",
        "colab": {
          "base_uri": "https://localhost:8080/",
          "height": 124,
          "referenced_widgets": [
            "3e48c40929cf422e9780f8b0a80b2ba1",
            "9b76b64cd45f4e0bb2c888226bd89e5f",
            "84352e9835354eb6a3029c56d89932d8",
            "8a8e73574b224619b046668694e8c4cd",
            "9a65a587f3b640fab04dbcf667d3b97d",
            "e1fee38d100048eaa20f6c8ff2967aa8",
            "06c6f95023b248acb34b6b3dfa7d7955",
            "fe2c2b10df4a466c9969ef07c00c8322"
          ]
        }
      },
      "source": [
        "# Load the pretrained model\n",
        "model = models.vgg16(pretrained=True)\n",
        "\n",
        "# Turn off gradients for our model\n",
        "for param in model.parameters():\n",
        "    param.requires_grad = False\n",
        "\n",
        "'''\n",
        "# VGG16 classifier structure:\n",
        "        \n",
        "(classifier): Sequential(\n",
        "(0): Linear(in_features=25088, out_features=4096, bias=True)\n",
        "(1): ReLU(inplace)\n",
        "(2): Dropout(p=0.5)\n",
        "(3): Linear(in_features=4096, out_features=4096, bias=True)\n",
        "(4): ReLU(inplace)\n",
        "(5): Dropout(p=0.5)\n",
        "(6): Linear(in_features=4096, out_features=1000, bias=True)\n",
        "'''"
      ],
      "execution_count": 10,
      "outputs": [
        {
          "output_type": "stream",
          "text": [
            "Downloading: \"https://download.pytorch.org/models/vgg16-397923af.pth\" to /root/.cache/torch/checkpoints/vgg16-397923af.pth\n"
          ],
          "name": "stderr"
        },
        {
          "output_type": "display_data",
          "data": {
            "application/vnd.jupyter.widget-view+json": {
              "model_id": "3e48c40929cf422e9780f8b0a80b2ba1",
              "version_minor": 0,
              "version_major": 2
            },
            "text/plain": [
              "HBox(children=(IntProgress(value=0, max=553433881), HTML(value='')))"
            ]
          },
          "metadata": {
            "tags": []
          }
        },
        {
          "output_type": "stream",
          "text": [
            "\n"
          ],
          "name": "stdout"
        },
        {
          "output_type": "execute_result",
          "data": {
            "text/plain": [
              "'\\n# VGG16 classifier structure:\\n        \\n(classifier): Sequential(\\n(0): Linear(in_features=25088, out_features=4096, bias=True)\\n(1): ReLU(inplace)\\n(2): Dropout(p=0.5)\\n(3): Linear(in_features=4096, out_features=4096, bias=True)\\n(4): ReLU(inplace)\\n(5): Dropout(p=0.5)\\n(6): Linear(in_features=4096, out_features=1000, bias=True)\\n'"
            ]
          },
          "metadata": {
            "tags": []
          },
          "execution_count": 10
        }
      ]
    },
    {
      "cell_type": "code",
      "metadata": {
        "id": "KQhDpoSjjBvr",
        "colab_type": "code",
        "outputId": "2442d2d2-78e9-46fa-c865-6b608893463b",
        "colab": {
          "base_uri": "https://localhost:8080/",
          "height": 844
        }
      },
      "source": [
        "# model before modifying its classifier\n",
        "model"
      ],
      "execution_count": 11,
      "outputs": [
        {
          "output_type": "execute_result",
          "data": {
            "text/plain": [
              "VGG(\n",
              "  (features): Sequential(\n",
              "    (0): Conv2d(3, 64, kernel_size=(3, 3), stride=(1, 1), padding=(1, 1))\n",
              "    (1): ReLU(inplace=True)\n",
              "    (2): Conv2d(64, 64, kernel_size=(3, 3), stride=(1, 1), padding=(1, 1))\n",
              "    (3): ReLU(inplace=True)\n",
              "    (4): MaxPool2d(kernel_size=2, stride=2, padding=0, dilation=1, ceil_mode=False)\n",
              "    (5): Conv2d(64, 128, kernel_size=(3, 3), stride=(1, 1), padding=(1, 1))\n",
              "    (6): ReLU(inplace=True)\n",
              "    (7): Conv2d(128, 128, kernel_size=(3, 3), stride=(1, 1), padding=(1, 1))\n",
              "    (8): ReLU(inplace=True)\n",
              "    (9): MaxPool2d(kernel_size=2, stride=2, padding=0, dilation=1, ceil_mode=False)\n",
              "    (10): Conv2d(128, 256, kernel_size=(3, 3), stride=(1, 1), padding=(1, 1))\n",
              "    (11): ReLU(inplace=True)\n",
              "    (12): Conv2d(256, 256, kernel_size=(3, 3), stride=(1, 1), padding=(1, 1))\n",
              "    (13): ReLU(inplace=True)\n",
              "    (14): Conv2d(256, 256, kernel_size=(3, 3), stride=(1, 1), padding=(1, 1))\n",
              "    (15): ReLU(inplace=True)\n",
              "    (16): MaxPool2d(kernel_size=2, stride=2, padding=0, dilation=1, ceil_mode=False)\n",
              "    (17): Conv2d(256, 512, kernel_size=(3, 3), stride=(1, 1), padding=(1, 1))\n",
              "    (18): ReLU(inplace=True)\n",
              "    (19): Conv2d(512, 512, kernel_size=(3, 3), stride=(1, 1), padding=(1, 1))\n",
              "    (20): ReLU(inplace=True)\n",
              "    (21): Conv2d(512, 512, kernel_size=(3, 3), stride=(1, 1), padding=(1, 1))\n",
              "    (22): ReLU(inplace=True)\n",
              "    (23): MaxPool2d(kernel_size=2, stride=2, padding=0, dilation=1, ceil_mode=False)\n",
              "    (24): Conv2d(512, 512, kernel_size=(3, 3), stride=(1, 1), padding=(1, 1))\n",
              "    (25): ReLU(inplace=True)\n",
              "    (26): Conv2d(512, 512, kernel_size=(3, 3), stride=(1, 1), padding=(1, 1))\n",
              "    (27): ReLU(inplace=True)\n",
              "    (28): Conv2d(512, 512, kernel_size=(3, 3), stride=(1, 1), padding=(1, 1))\n",
              "    (29): ReLU(inplace=True)\n",
              "    (30): MaxPool2d(kernel_size=2, stride=2, padding=0, dilation=1, ceil_mode=False)\n",
              "  )\n",
              "  (avgpool): AdaptiveAvgPool2d(output_size=(7, 7))\n",
              "  (classifier): Sequential(\n",
              "    (0): Linear(in_features=25088, out_features=4096, bias=True)\n",
              "    (1): ReLU(inplace=True)\n",
              "    (2): Dropout(p=0.5, inplace=False)\n",
              "    (3): Linear(in_features=4096, out_features=4096, bias=True)\n",
              "    (4): ReLU(inplace=True)\n",
              "    (5): Dropout(p=0.5, inplace=False)\n",
              "    (6): Linear(in_features=4096, out_features=1000, bias=True)\n",
              "  )\n",
              ")"
            ]
          },
          "metadata": {
            "tags": []
          },
          "execution_count": 11
        }
      ]
    },
    {
      "cell_type": "code",
      "metadata": {
        "id": "xviKB7h3iz2W",
        "colab_type": "code",
        "colab": {}
      },
      "source": [
        "# Define new classifier that we will be learning\n",
        "\n",
        "#Classifier parameters\n",
        "def load_classifier():\n",
        "  classifier_input = 25088 #input layer of vgg16- has 25088\n",
        "  classifier_hidden_units = 4096 # 4096 default model value\n",
        "    \n",
        "  classifier = nn.Sequential(\n",
        "      nn.Linear(classifier_input, classifier_hidden_units, bias=True),\n",
        "      nn.ReLU(),\n",
        "      nn.Dropout(p=0.5),\n",
        "      nn.Linear(classifier_hidden_units, labels_output_categories),\n",
        "      nn.LogSoftmax(dim=1)\n",
        "      # Log softmax activation function ensures that sum of all output probabilities is 1 \\\n",
        "      # - With that we know the confidence the model has for a given class between 0-100%\n",
        "    )\n",
        "\n",
        "  return classifier\n",
        "\n",
        "model.classifier = load_classifier()\n",
        "model.class_to_idx = train_data.class_to_idx"
      ],
      "execution_count": 0,
      "outputs": []
    },
    {
      "cell_type": "code",
      "metadata": {
        "id": "x1uPEy9gnMZx",
        "colab_type": "code",
        "outputId": "a67a8d22-4eb2-407b-da44-2a502739c6c8",
        "colab": {
          "base_uri": "https://localhost:8080/",
          "height": 807
        }
      },
      "source": [
        "# model after modifying its classifier - observe the new classifier\n",
        "model"
      ],
      "execution_count": 13,
      "outputs": [
        {
          "output_type": "execute_result",
          "data": {
            "text/plain": [
              "VGG(\n",
              "  (features): Sequential(\n",
              "    (0): Conv2d(3, 64, kernel_size=(3, 3), stride=(1, 1), padding=(1, 1))\n",
              "    (1): ReLU(inplace=True)\n",
              "    (2): Conv2d(64, 64, kernel_size=(3, 3), stride=(1, 1), padding=(1, 1))\n",
              "    (3): ReLU(inplace=True)\n",
              "    (4): MaxPool2d(kernel_size=2, stride=2, padding=0, dilation=1, ceil_mode=False)\n",
              "    (5): Conv2d(64, 128, kernel_size=(3, 3), stride=(1, 1), padding=(1, 1))\n",
              "    (6): ReLU(inplace=True)\n",
              "    (7): Conv2d(128, 128, kernel_size=(3, 3), stride=(1, 1), padding=(1, 1))\n",
              "    (8): ReLU(inplace=True)\n",
              "    (9): MaxPool2d(kernel_size=2, stride=2, padding=0, dilation=1, ceil_mode=False)\n",
              "    (10): Conv2d(128, 256, kernel_size=(3, 3), stride=(1, 1), padding=(1, 1))\n",
              "    (11): ReLU(inplace=True)\n",
              "    (12): Conv2d(256, 256, kernel_size=(3, 3), stride=(1, 1), padding=(1, 1))\n",
              "    (13): ReLU(inplace=True)\n",
              "    (14): Conv2d(256, 256, kernel_size=(3, 3), stride=(1, 1), padding=(1, 1))\n",
              "    (15): ReLU(inplace=True)\n",
              "    (16): MaxPool2d(kernel_size=2, stride=2, padding=0, dilation=1, ceil_mode=False)\n",
              "    (17): Conv2d(256, 512, kernel_size=(3, 3), stride=(1, 1), padding=(1, 1))\n",
              "    (18): ReLU(inplace=True)\n",
              "    (19): Conv2d(512, 512, kernel_size=(3, 3), stride=(1, 1), padding=(1, 1))\n",
              "    (20): ReLU(inplace=True)\n",
              "    (21): Conv2d(512, 512, kernel_size=(3, 3), stride=(1, 1), padding=(1, 1))\n",
              "    (22): ReLU(inplace=True)\n",
              "    (23): MaxPool2d(kernel_size=2, stride=2, padding=0, dilation=1, ceil_mode=False)\n",
              "    (24): Conv2d(512, 512, kernel_size=(3, 3), stride=(1, 1), padding=(1, 1))\n",
              "    (25): ReLU(inplace=True)\n",
              "    (26): Conv2d(512, 512, kernel_size=(3, 3), stride=(1, 1), padding=(1, 1))\n",
              "    (27): ReLU(inplace=True)\n",
              "    (28): Conv2d(512, 512, kernel_size=(3, 3), stride=(1, 1), padding=(1, 1))\n",
              "    (29): ReLU(inplace=True)\n",
              "    (30): MaxPool2d(kernel_size=2, stride=2, padding=0, dilation=1, ceil_mode=False)\n",
              "  )\n",
              "  (avgpool): AdaptiveAvgPool2d(output_size=(7, 7))\n",
              "  (classifier): Sequential(\n",
              "    (0): Linear(in_features=25088, out_features=4096, bias=True)\n",
              "    (1): ReLU()\n",
              "    (2): Dropout(p=0.5, inplace=False)\n",
              "    (3): Linear(in_features=4096, out_features=102, bias=True)\n",
              "    (4): LogSoftmax()\n",
              "  )\n",
              ")"
            ]
          },
          "metadata": {
            "tags": []
          },
          "execution_count": 13
        }
      ]
    },
    {
      "cell_type": "markdown",
      "metadata": {
        "id": "MFD3KV4YxvqY",
        "colab_type": "text"
      },
      "source": [
        "## Function to save and load the trained model checkpoint for further usage\n",
        "\n",
        "After the network will be trained, it's important to save it so next time when we load this notebook or when we will want to use the model in different script for making predictions, we can load it without need to retrain it again."
      ]
    },
    {
      "cell_type": "code",
      "metadata": {
        "id": "dFyi4OscxwqH",
        "colab_type": "code",
        "colab": {}
      },
      "source": [
        "def save_checkpoint(model, checkpoint_path):\n",
        "    '''\n",
        "    Save trained model\n",
        "\n",
        "    Args:\n",
        "      model               : instance of deep learning model to be saved e.g. VGG16\n",
        "      checkpoint_path(str): location to file where the model will be saved, \n",
        "                             so it can be loaded and used later without need to traing it again\n",
        "\n",
        "    Returns:\n",
        "      None\n",
        "    '''\n",
        "    \n",
        "    model.class_to_idx = test_data.class_to_idx  \n",
        "    model.cpu()\n",
        "    torch.save({'arch': 'vgg16',\n",
        "            'state_dict': model.state_dict(), \n",
        "            'class_to_idx': model.class_to_idx},\n",
        "            checkpoint_path)"
      ],
      "execution_count": 0,
      "outputs": []
    },
    {
      "cell_type": "code",
      "metadata": {
        "id": "R5cW7a0P2dof",
        "colab_type": "code",
        "colab": {
          "base_uri": "https://localhost:8080/",
          "height": 35
        },
        "outputId": "1b1c4e90-d32d-482d-b6b3-d67eb4d9f309"
      },
      "source": [
        "def load_checkpoint(filepath, device='cuda'):\n",
        "    '''\n",
        "    Load trained model\n",
        "\n",
        "    Args:\n",
        "      filepath(str): location to file where the model is saved, \n",
        "                      so it can be loaded and used without need to traing it again\n",
        "    Returns: \n",
        "      model: instance of loaded deep learning model\n",
        "    '''\n",
        "\n",
        "    check = torch.load(filepath, map_location=device)\n",
        "    \n",
        "    if check['arch'] == 'vgg16':\n",
        "        model = models.vgg16(pretrained = True)\n",
        "    elif check['arch'] == 'vgg13':\n",
        "        model = models.vgg13(pretrained = True)\n",
        "    else:\n",
        "        print(\"Error: LoadCheckpoint - Model not recognized\")\n",
        "        return 0   \n",
        "    \n",
        "    for param in model.parameters():\n",
        "        param.requires_grad = False\n",
        "\n",
        "    model.class_to_idx = check['class_to_idx']\n",
        "    model.classifier = load_classifier()\n",
        "        \n",
        "    model.load_state_dict(check['state_dict'])\n",
        "\n",
        "    return model\n",
        "  \n",
        "model = load_checkpoint('checkpoint_30_04_2020.pth', 'cpu')\n",
        "if model == 0:\n",
        "    print (\"LoadCheckpoint: ERROR - Checkpoint load failed\")\n",
        "else:\n",
        "    print (\"LoadCheckpoint: Checkpoint loaded\") "
      ],
      "execution_count": 29,
      "outputs": [
        {
          "output_type": "stream",
          "text": [
            "LoadCheckpoint: Checkpoint loaded\n"
          ],
          "name": "stdout"
        }
      ]
    },
    {
      "cell_type": "markdown",
      "metadata": {
        "id": "oPZaCYyzywh_",
        "colab_type": "text"
      },
      "source": [
        "## Train the model"
      ]
    },
    {
      "cell_type": "code",
      "metadata": {
        "id": "XFBK19lOBEzj",
        "colab_type": "code",
        "outputId": "60a91ff8-e6e9-4180-fe0a-653bcf212923",
        "colab": {
          "base_uri": "https://localhost:8080/",
          "height": 1000
        }
      },
      "source": [
        "# Train model\n",
        "def train_model(model, criterion, optimizer, epochs=7, device='cuda'):\n",
        "    '''\n",
        "    Train provided deep learning model\n",
        "\n",
        "    Args:\n",
        "      model      : instance of deep learning model to be trained e.g. VGG16\n",
        "      criterior  : e.g. instance of nn.NLLLoss()\n",
        "      optimizer  : e.g. instance of optim.SGD()\n",
        "      epochs(int): number of training epochs that will be executed\n",
        "      device(str): 'cuda' for using gpu, 'cpu' to run without gpu (not recommended, slow) \n",
        "\n",
        "    Returns:\n",
        "      None\n",
        "    '''\n",
        "\n",
        "    print (\"train_model start. device: {0}\".format(device))\n",
        "    start = time.process_time()\n",
        "    \n",
        "    model.train()\n",
        "    model.to(device)\n",
        "    \n",
        "    running_loss = 0\n",
        "    print_every = 100 # Define how often the intermediate training status will be printed \\\n",
        "    # - and the model tested against the validation set\n",
        "    \n",
        "    for epoch in range(epochs):\n",
        "        steps = 0\n",
        "        for images, labels in dataloaders[\"train\"]:\n",
        "            steps += 1       \n",
        "            \n",
        "            images, labels = images.to(device), labels.to(device)\n",
        "            \n",
        "            optimizer.zero_grad()\n",
        "            \n",
        "            logps = model.forward(images)\n",
        "            loss = criterion(logps, labels)\n",
        "            loss.backward()\n",
        "            optimizer.step()\n",
        "            \n",
        "            running_loss += loss.item()\n",
        "            \n",
        "            if steps % print_every == 0:\n",
        "\n",
        "                test_loss = 0\n",
        "                accuracy = 0\n",
        "\n",
        "                # model intermediate evaluation during the training\n",
        "                model.eval()\n",
        "\n",
        "                # deactivate autograd engine during validation. \n",
        "                # - it will reduce memory usage \n",
        "                # - it will speed up computations for model validation \n",
        "                # - it will disable backpropagation we don't want to have during model validation anyway\n",
        "                with torch.no_grad(): \n",
        "                  for images, labels in dataloaders[\"validation\"]:\n",
        "                    \n",
        "                    images, labels = images.to(device), labels.to(device)\n",
        "\n",
        "                    logps = model.forward(images)\n",
        "                    loss = criterion(logps, labels)\n",
        "                    test_loss += loss.item()\n",
        "                    \n",
        "                    # Calculate accuracy\n",
        "                    ps = torch.exp(logps)\n",
        "                    top_ps, top_class = ps.topk(1, dim=1)\n",
        "                    equality = top_class == labels.view(*top_class.shape)\n",
        "                    accuracy += torch.mean(equality.type(torch.FloatTensor)).item()\n",
        "                    \n",
        "                print(\"Epoch {0}/{1}\".format(epoch+1, epochs))\n",
        "                print(\"Steps {0}/{1}\".format(steps, dataset_sizes[\"train\"]))\n",
        "                print(\"Train loss {:.2}\".format(running_loss/print_every))\n",
        "                print(\"Validation loss {:.2}\".format(test_loss/dataset_sizes[\"validation\"]))\n",
        "                print(\"Validation accuracy {:.2}\\n\".format(accuracy/dataset_sizes[\"validation\"]))\n",
        "\n",
        "                running_loss = 0\n",
        "\n",
        "                epoch_end = time.process_time()\n",
        "                print(\"Training runtime so far {0}\".format(epoch_end - start))\n",
        "    \n",
        "    end = time.process_time()\n",
        "    print(\"Training finished. Run time: {0}\".format(end - start))\n",
        "\n",
        "# Define criterion and optimizer\n",
        "\n",
        "criterion = nn.NLLLoss()\n",
        "optimizer = optim.SGD(model.classifier.parameters(), lr = 0.003)\n",
        "\n",
        "device = torch.device(\"cuda\" if torch.cuda.is_available() else \"cpu\")\n",
        "model.to(device)\n",
        "\n",
        "train_model(model, criterion, optimizer, 5, device)\n",
        "\n",
        "save_checkpoint(model, 'checkpoint.pth')"
      ],
      "execution_count": 14,
      "outputs": [
        {
          "output_type": "stream",
          "text": [
            "train_model start. device: cuda\n",
            "Epoch 1/5\n",
            "Steps 100/410\n",
            "Train loss 4.4\n",
            "Validation loss 3.8\n",
            "Validation accuracy 0.2\n",
            "\n",
            "Training runtime so far 40.181274627\n",
            "Epoch 1/5\n",
            "Steps 200/410\n",
            "Train loss 3.8\n",
            "Validation loss 3.1\n",
            "Validation accuracy 0.33\n",
            "\n",
            "Training runtime so far 79.85644389299999\n",
            "Epoch 1/5\n",
            "Steps 300/410\n",
            "Train loss 3.2\n",
            "Validation loss 2.5\n",
            "Validation accuracy 0.47\n",
            "\n",
            "Training runtime so far 119.548478258\n",
            "Epoch 1/5\n",
            "Steps 400/410\n",
            "Train loss 2.8\n",
            "Validation loss 2.1\n",
            "Validation accuracy 0.56\n",
            "\n",
            "Training runtime so far 159.00665579\n",
            "Epoch 2/5\n",
            "Steps 100/410\n",
            "Train loss 2.6\n",
            "Validation loss 1.6\n",
            "Validation accuracy 0.68\n",
            "\n",
            "Training runtime so far 199.63967050000002\n",
            "Epoch 2/5\n",
            "Steps 200/410\n",
            "Train loss 2.1\n",
            "Validation loss 1.4\n",
            "Validation accuracy 0.69\n",
            "\n",
            "Training runtime so far 238.03550184600002\n",
            "Epoch 2/5\n",
            "Steps 300/410\n",
            "Train loss 1.9\n",
            "Validation loss 1.2\n",
            "Validation accuracy 0.72\n",
            "\n",
            "Training runtime so far 276.446062453\n",
            "Epoch 2/5\n",
            "Steps 400/410\n",
            "Train loss 1.7\n",
            "Validation loss 1.1\n",
            "Validation accuracy 0.75\n",
            "\n",
            "Training runtime so far 314.96079426\n",
            "Epoch 3/5\n",
            "Steps 100/410\n",
            "Train loss 1.7\n",
            "Validation loss 0.94\n",
            "Validation accuracy 0.79\n",
            "\n",
            "Training runtime so far 355.95738492\n",
            "Epoch 3/5\n",
            "Steps 200/410\n",
            "Train loss 1.4\n",
            "Validation loss 0.84\n",
            "Validation accuracy 0.83\n",
            "\n",
            "Training runtime so far 394.493742068\n",
            "Epoch 3/5\n",
            "Steps 300/410\n",
            "Train loss 1.3\n",
            "Validation loss 0.8\n",
            "Validation accuracy 0.82\n",
            "\n",
            "Training runtime so far 433.088873292\n",
            "Epoch 3/5\n",
            "Steps 400/410\n",
            "Train loss 1.3\n",
            "Validation loss 0.69\n",
            "Validation accuracy 0.86\n",
            "\n",
            "Training runtime so far 471.569346648\n",
            "Epoch 4/5\n",
            "Steps 100/410\n",
            "Train loss 1.3\n",
            "Validation loss 0.68\n",
            "Validation accuracy 0.85\n",
            "\n",
            "Training runtime so far 512.6170353939999\n",
            "Epoch 4/5\n",
            "Steps 200/410\n",
            "Train loss 1.1\n",
            "Validation loss 0.64\n",
            "Validation accuracy 0.86\n",
            "\n",
            "Training runtime so far 551.271958036\n",
            "Epoch 4/5\n",
            "Steps 300/410\n",
            "Train loss 1.0\n",
            "Validation loss 0.58\n",
            "Validation accuracy 0.87\n",
            "\n",
            "Training runtime so far 589.7697040649999\n",
            "Epoch 4/5\n",
            "Steps 400/410\n",
            "Train loss 1.0\n",
            "Validation loss 0.57\n",
            "Validation accuracy 0.87\n",
            "\n",
            "Training runtime so far 628.253972571\n",
            "Epoch 5/5\n",
            "Steps 100/410\n",
            "Train loss 1.0\n",
            "Validation loss 0.59\n",
            "Validation accuracy 0.85\n",
            "\n",
            "Training runtime so far 669.277624289\n",
            "Epoch 5/5\n",
            "Steps 200/410\n",
            "Train loss 0.88\n",
            "Validation loss 0.53\n",
            "Validation accuracy 0.87\n",
            "\n",
            "Training runtime so far 707.867922832\n",
            "Epoch 5/5\n",
            "Steps 300/410\n",
            "Train loss 0.88\n",
            "Validation loss 0.47\n",
            "Validation accuracy 0.89\n",
            "\n",
            "Training runtime so far 746.567607653\n",
            "Epoch 5/5\n",
            "Steps 400/410\n",
            "Train loss 0.88\n",
            "Validation loss 0.47\n",
            "Validation accuracy 0.89\n",
            "\n",
            "Training runtime so far 785.073777269\n",
            "Training finished. Run time: 787.645415407\n"
          ],
          "name": "stdout"
        },
        {
          "output_type": "error",
          "ename": "NameError",
          "evalue": "ignored",
          "traceback": [
            "\u001b[0;31m---------------------------------------------------------------------------\u001b[0m",
            "\u001b[0;31mNameError\u001b[0m                                 Traceback (most recent call last)",
            "\u001b[0;32m<ipython-input-14-a24be0f714d8>\u001b[0m in \u001b[0;36m<module>\u001b[0;34m()\u001b[0m\n\u001b[1;32m     91\u001b[0m \u001b[0mtrain_model\u001b[0m\u001b[0;34m(\u001b[0m\u001b[0mmodel\u001b[0m\u001b[0;34m,\u001b[0m \u001b[0mcriterion\u001b[0m\u001b[0;34m,\u001b[0m \u001b[0moptimizer\u001b[0m\u001b[0;34m,\u001b[0m \u001b[0;36m5\u001b[0m\u001b[0;34m,\u001b[0m \u001b[0mdevice\u001b[0m\u001b[0;34m)\u001b[0m\u001b[0;34m\u001b[0m\u001b[0;34m\u001b[0m\u001b[0m\n\u001b[1;32m     92\u001b[0m \u001b[0;34m\u001b[0m\u001b[0m\n\u001b[0;32m---> 93\u001b[0;31m \u001b[0msave_checkpoint\u001b[0m\u001b[0;34m(\u001b[0m\u001b[0mmodel\u001b[0m\u001b[0;34m,\u001b[0m \u001b[0;34m'checkpoint.pth'\u001b[0m\u001b[0;34m)\u001b[0m\u001b[0;34m\u001b[0m\u001b[0;34m\u001b[0m\u001b[0m\n\u001b[0m",
            "\u001b[0;31mNameError\u001b[0m: name 'save_checkpoint' is not defined"
          ]
        }
      ]
    },
    {
      "cell_type": "markdown",
      "metadata": {
        "id": "K4qD3ripxkRM",
        "colab_type": "text"
      },
      "source": [
        "## Test the trained model\n",
        "\n",
        "It's good practice to test our trained network on test data, images the network has never seen either in training or validation. This will give us a good estimate for the model's performance on completely new images. "
      ]
    },
    {
      "cell_type": "code",
      "metadata": {
        "id": "MYf84BcxBEzy",
        "colab_type": "code",
        "colab": {}
      },
      "source": [
        "def test_model(model, device=\"cuda\"):\n",
        "    '''\n",
        "    Test trained deep learning model\n",
        "\n",
        "    Args:\n",
        "      model: instance of deep learning model to be tested e.g. VGG16 against test dataset\n",
        "      device(str): 'cuda' for using gpu, 'cpu' to run without gpu (not recommended, slow) \n",
        "\n",
        "    Returns:\n",
        "      None\n",
        "    '''\n",
        "    model.to(device)\n",
        "    \n",
        "    model.eval()\n",
        "                \n",
        "    test_loss = 0\n",
        "    accuracy = 0\n",
        "        \n",
        "    steps = 0\n",
        "    print_every = 100  # Define how often the intermediate training status will be printed \\\n",
        "    \n",
        "    # deactivate autograd engine during validation. \n",
        "    # - it will reduce memory usage \n",
        "    # - it will speed up computations for model validation \n",
        "    # - it will disable backpropagation we don't want to have during model validation anyway\n",
        "    with torch.no_grad(): # Turn off gradients for validation, saves memory and computations\n",
        "\n",
        "        for images, labels in dataloaders[\"test\"]:\n",
        "            steps += 1\n",
        "\n",
        "            if steps % print_every == 0:\n",
        "              print(\"Steps {0}/{1}\".format(steps, dataset_sizes[\"train\"])) \n",
        "\n",
        "            images, labels = images.to(device), labels.to(device)\n",
        "\n",
        "            logps = model.forward(images)\n",
        "            loss = criterion(logps, labels)\n",
        "            test_loss += loss.item()\n",
        "                    \n",
        "            # Calculate accuracy\n",
        "            ps = torch.exp(logps)\n",
        "            top_ps, top_class = ps.topk(1, dim=1)\n",
        "            equality = top_class == labels.view(*top_class.shape)\n",
        "            accuracy += torch.mean(equality.type(torch.FloatTensor)).item()\n",
        "                    \n",
        "    print(\"Validation loss {:.2}\".format(test_loss/dataset_sizes[\"test\"]))\n",
        "    print(\"Validation accuracy {:.2%}\".format(accuracy/dataset_sizes[\"test\"]))  \n",
        "\n",
        "test_model(model, \"cuda\")"
      ],
      "execution_count": 0,
      "outputs": []
    },
    {
      "cell_type": "code",
      "metadata": {
        "id": "UibJqSS1yh0g",
        "colab_type": "code",
        "colab": {}
      },
      "source": [
        "# if the model is performing well, we can save it under specific name for further use\n",
        "save_checkpoint(model, \"checkpoint_30_04_2020.pth\")"
      ],
      "execution_count": 0,
      "outputs": []
    },
    {
      "cell_type": "markdown",
      "metadata": {
        "id": "aZeZQrYxBE0E",
        "colab_type": "text"
      },
      "source": [
        "## Function to load the checkpoint\n",
        "\n",
        "Below is the function that can load a checkpoint and rebuild the model. That way we can come back to this project and keep working on it without having to retrain the network."
      ]
    },
    {
      "cell_type": "code",
      "metadata": {
        "id": "yFoTiSv6BE0F",
        "colab_type": "code",
        "colab": {}
      },
      "source": [
        ""
      ],
      "execution_count": 0,
      "outputs": []
    },
    {
      "cell_type": "markdown",
      "metadata": {
        "id": "6Sq6iHtwBE0R",
        "colab_type": "text"
      },
      "source": [
        "# Inference for classification\n",
        "\n",
        "Here I've written a function to use a trained network for inference. That is, we'll pass an image into the network and predict the class of the flower in the image. The function called `predict` takes an image and a model, then returns the top $K$ most likely classes along with the probabilities. It looks like \n",
        "\n",
        "```python\n",
        "probs, classes = predict(image_path, model)\n",
        "print(probs)\n",
        "print(classes)\n",
        "> [ 0.01558163  0.01541934  0.01452626  0.01443549  0.01407339]\n",
        "> ['70', '3', '45', '62', '55']\n",
        "```\n",
        "\n",
        "First we'll need to handle processing the input image such that it can be used in your network. \n",
        "\n",
        "## Image Preprocessing\n",
        "\n",
        "I will use `PIL` to load the image ([documentation](https://pillow.readthedocs.io/en/latest/reference/Image.html)). It's best to write a function that preprocesses the image so it can be used as input for the model. This function will process the images in the same manner used for training. \n",
        "\n",
        "First, I will resize the images where the shortest side is 256 pixels, keeping the aspect ratio. This can be done with the [`thumbnail`](http://pillow.readthedocs.io/en/3.1.x/reference/Image.html#PIL.Image.Image.thumbnail) or [`resize`](http://pillow.readthedocs.io/en/3.1.x/reference/Image.html#PIL.Image.Image.thumbnail) methods. Then I will need to crop out the center 224x224 portion of the image.\n",
        "\n",
        "Color channels of images are typically encoded as integers 0-255, but the model expected floats 0-1. I will need to convert the values. It's easiest with a Numpy array, which you can get from a PIL image like so `np_image = np.array(pil_image)`.\n",
        "\n",
        "As before, the network expects the images to be normalized in a specific way. For the means, it's `[0.485, 0.456, 0.406]` and for the standard deviations `[0.229, 0.224, 0.225]`. We will want to subtract the means from each color channel, then divide by the standard deviation. \n",
        "\n",
        "And finally, PyTorch expects the color channel to be the first dimension but it's the third dimension in the PIL image and Numpy array. We can reorder dimensions using [`ndarray.transpose`](https://docs.scipy.org/doc/numpy-1.13.0/reference/generated/numpy.ndarray.transpose.html). The color channel needs to be first and retain the order of the other two dimensions."
      ]
    },
    {
      "cell_type": "code",
      "metadata": {
        "scrolled": true,
        "id": "K4nY4bRmBE0U",
        "colab_type": "code",
        "colab": {}
      },
      "source": [
        "def process_image(image_path):\n",
        "    '''\n",
        "        Process an image into an object that can be used as input to a trained model. \n",
        "\n",
        "        Args:\n",
        "          image_path(str): path to the image\n",
        "        Returns:\n",
        "          img_tensor(tensor image)     \n",
        "    '''    \n",
        "    \n",
        "    img = Image.open(image_path)\n",
        "    \n",
        "    validation_transforms = transforms.Compose([\n",
        "      # data normalization\n",
        "      transforms.Resize(256),\n",
        "      transforms.CenterCrop(224),\n",
        "      transforms.ToTensor(),\n",
        "      transforms.Normalize(means,stds)\n",
        "\n",
        "      \n",
        "])\n",
        "    img_tensor = validation_transforms(img)\n",
        "\n",
        "    return img_tensor"
      ],
      "execution_count": 0,
      "outputs": []
    },
    {
      "cell_type": "markdown",
      "metadata": {
        "id": "SmQR06JmBE0g",
        "colab_type": "text"
      },
      "source": [
        "To check our work, the function below converts a PyTorch tensor and displays it in the notebook. If our `process_image` function works, running the output through this function should return the original image (except for the cropped out portions)."
      ]
    },
    {
      "cell_type": "code",
      "metadata": {
        "id": "StL1IpTNBE0j",
        "colab_type": "code",
        "colab": {}
      },
      "source": [
        "def imshow(image, ax=None, title=None):\n",
        "     '''\n",
        "        Display an image on the screen\n",
        "\n",
        "        Args:\n",
        "          image(tensor): tensor image\n",
        "        Returns:\n",
        "          None    \n",
        "    '''    \n",
        "    if ax is None:\n",
        "        fig, ax = plt.subplots()\n",
        "    \n",
        "    # PyTorch tensors assume the color channel is the first dimension\n",
        "    # but matplotlib assumes is the third dimension\n",
        "    image = image.numpy().transpose((1, 2, 0))\n",
        "    \n",
        "    # Undo preprocessing\n",
        "    mean = np.array([0.485, 0.456, 0.406])\n",
        "    std = np.array([0.229, 0.224, 0.225])\n",
        "    image = std * image + mean\n",
        "    \n",
        "    # Image needs to be clipped between 0 and 1 or it looks like noise when displayed\n",
        "    image = np.clip(image, 0, 1)\n",
        "    \n",
        "    ax.imshow(image)"
      ],
      "execution_count": 0,
      "outputs": []
    },
    {
      "cell_type": "code",
      "metadata": {
        "id": "Tm9wNmf2BE0r",
        "colab_type": "code",
        "outputId": "2a26e709-efd5-4671-95cf-d938950bcb82",
        "colab": {
          "base_uri": "https://localhost:8080/",
          "height": 287
        }
      },
      "source": [
        "# Test process_image and imshow\n",
        "image_path_test = data_dir + '/test/2/image_05109.jpg' #image class 2\n",
        "image = process_image(image_path_test)\n",
        "imshow(image, ax=None, title=None)"
      ],
      "execution_count": 0,
      "outputs": [
        {
          "output_type": "execute_result",
          "data": {
            "text/plain": [
              "<matplotlib.axes._subplots.AxesSubplot at 0x7fdd561d5b00>"
            ]
          },
          "metadata": {
            "tags": []
          },
          "execution_count": 95
        },
        {
          "output_type": "display_data",
          "data": {
            "image/png": "[encoded data removed]",
            "text/plain": [
              "<Figure size 432x288 with 1 Axes>"
            ]
          },
          "metadata": {
            "tags": [],
            "needs_background": "light"
          }
        }
      ]
    },
    {
      "cell_type": "markdown",
      "metadata": {
        "id": "_91h_DgZBE04",
        "colab_type": "text"
      },
      "source": [
        "## Class Prediction\n",
        "\n",
        "Once we can get images in the correct format, it's time to write a function for making predictions with our model. A common practice is to predict the top 5 or so (usually called top-$K$) most probable classes. I will write a function to calculate the class probabilities then find the $K$ largest values.\n",
        "\n",
        "To get the top $K$ largest values in a tensor use [`x.topk(k)`](http://pytorch.org/docs/master/torch.html#torch.topk). This method returns both the highest `k` probabilities and the indices of those probabilities corresponding to the classes. I will need to convert from these indices to the actual class labels using `class_to_idx`. We need invert the dictionary so we get a mapping from index to class as well.\n",
        "\n",
        "This method will take a path to an image and a model checkpoint, then return the probabilities and classes.\n",
        "\n",
        "```python\n",
        "probs, classes = predict(image_path, model)\n",
        "print(probs)\n",
        "print(classes)\n",
        "> [ 0.01558163  0.01541934  0.01452626  0.01443549  0.01407339]\n",
        "> ['70', '3', '45', '62', '55']\n",
        "```"
      ]
    },
    {
      "cell_type": "code",
      "metadata": {
        "id": "2_6g4wuiBE06",
        "colab_type": "code",
        "colab": {}
      },
      "source": [
        "def predict(image_path, model, device=\"cpu\", top_k=5): \n",
        "    '''\n",
        "        Classify object with its probabilities\n",
        "        Args: \n",
        "            imgage_path(str): path to the image to be classified\n",
        "            model           : trained model\n",
        "            device(str)     : computation to be done on 'cpu' or 'cuda'\n",
        "            top_k(int)      : return top K probabilities\n",
        "        Returns:\n",
        "            top_probs, top_classes = predict(image_path, model)\n",
        "            - top_probs     : top k probabilities\n",
        "            - top_classes   : top k classes\n",
        "        \n",
        "    '''\n",
        "    img = process_image(image_path)\n",
        "    top_probs, top_classes = _get_probs_classes(img, top_k, device)\n",
        "    \n",
        "    return top_probs, top_classes"
      ],
      "execution_count": 0,
      "outputs": []
    },
    {
      "cell_type": "code",
      "metadata": {
        "id": "aFP59CNDBE1B",
        "colab_type": "code",
        "colab": {}
      },
      "source": [
        "'''\n",
        "    Auxiliary functions for image prediction\n",
        "'''\n",
        "def _get_probs_classes(img, top_k, device):\n",
        "        '''\n",
        "            Classify object with its probabilities\n",
        "\n",
        "            Args: \n",
        "                img  : Tensor image\n",
        "                top_k: return top K probabilities\n",
        "            Returns:\n",
        "                top_probs[], top_classes[]\n",
        "                \n",
        "        '''   \n",
        "        #Add information about batch size - 1\n",
        "        model_input = img.unsqueeze(0)\n",
        "        '''\n",
        "        model_input.to(device)\n",
        "        model.to(device)\n",
        "        model.type(torch.FloatTensor)  #Fix from https://knowledge.udacity.com/questions/23625 | Otherwise RuntimeError: Expected object of type torch.FloatTensor but found type torch.cuda.FloatTensor for argument #2 'weight'\n",
        "       '''\n",
        "        probs_log = model.forward(model_input)\n",
        "        probs = torch.exp(probs_log) \n",
        "        \n",
        "        top_probs, top_classes = probs.topk(top_k)\n",
        "    \n",
        "        top_probs = top_probs.detach().numpy().tolist()[0] \n",
        "        top_classes = top_classes.detach().numpy().tolist()[0]\n",
        "        \n",
        "        return top_probs, top_classes\n",
        "\n",
        "\n",
        "def get_class_name(model, class_ids):\n",
        "    '''\n",
        "        Get name(s) for predicted class_id(s)\n",
        "\n",
        "        Args:\n",
        "         model    : trained model\n",
        "         class_ids: mapping between class ids and their names\n",
        "\n",
        "        Returns:\n",
        "          flower_names\n",
        "    '''\n",
        "    \n",
        "    idx_to_class = {val: key for key, val in    \n",
        "        model.class_to_idx.items()}\n",
        "    \n",
        "    flower_names = []\n",
        "    for c in class_ids:\n",
        "        flower_names.append(label_map[idx_to_class[c]])\n",
        "            \n",
        "    return flower_names"
      ],
      "execution_count": 0,
      "outputs": []
    },
    {
      "cell_type": "code",
      "metadata": {
        "id": "zi-FcKwKBE1J",
        "colab_type": "code",
        "outputId": "2145653b-e824-4fa8-d6c8-513d67442b83",
        "colab": {
          "base_uri": "https://localhost:8080/",
          "height": 54
        }
      },
      "source": [
        "#Test predict function\n",
        "\n",
        "image_path_test = data_dir + '/train/82/image_01586.jpg' #image class 82\n",
        "\n",
        "\n",
        "device = torch.device(\"cuda\" if torch.cuda.is_available() else \"cpu\")\n",
        "\n",
        "probs, classes = predict(image_path_test, model, device)\n",
        "\n",
        "print (classes)\n",
        "print (probs)"
      ],
      "execution_count": 0,
      "outputs": [
        {
          "output_type": "stream",
          "text": [
            "tensor([[83, 12, 77,  0, 49]])\n",
            "tensor([[0.9294, 0.0157, 0.0133, 0.0045, 0.0037]], grad_fn=<TopkBackward>)\n"
          ],
          "name": "stdout"
        }
      ]
    },
    {
      "cell_type": "code",
      "metadata": {
        "id": "LNMjFo76BE1Q",
        "colab_type": "code",
        "colab": {}
      },
      "source": [
        "def plot_probabilities(image_path, model):\n",
        "    '''\n",
        "        Draw probabilites with flower itself as requested\n",
        "\n",
        "        Args:\n",
        "         image_path(str): path to the image\n",
        "         model          : trained model\n",
        "\n",
        "         Returns:\n",
        "          None\n",
        "    '''\n",
        "    plt.figure(figsize = (10,10))\n",
        "    ax = plt.subplot(2, 1, 1)\n",
        "    \n",
        "    flower_num = image_path.split(\"/\")[-2]\n",
        "    title = label_map[flower_num]\n",
        "    print(\"True Flower category: {0}(ID: {1})\".format(title, flower_num))\n",
        "    \n",
        "    img = process_image(image_path)\n",
        "    imshow(img, ax, title)\n",
        "    \n",
        "    probs, classes = predict(image_path, model)\n",
        "    #Get names for predicted class_ids\n",
        "    flower_names = get_class_name(model, classes)\n",
        "    \n",
        "    print (\"Flower names: {0}\".format(flower_names))\n",
        "    print(\"Probabilities: {0}\".format(probs))\n",
        "    \n",
        "    \n",
        "    plt.subplot(2, 1, 2)\n",
        "    seaborn.barplot(x=probs, y=flower_names)\n",
        "    plt.show()\n",
        "\n"
      ],
      "execution_count": 0,
      "outputs": []
    },
    {
      "cell_type": "markdown",
      "metadata": {
        "id": "dJIc6ac2BE1W",
        "colab_type": "text"
      },
      "source": [
        "## Sanity Check\n",
        "\n",
        "Now as we can use a trained model for predictions, let's check to make sure it makes sense. Even if the testing accuracy is high, it's always good to check that there aren't obvious bugs. We will use `matplotlib` to plot the probabilities for the top 5 classes as a bar graph, along with the input image. It should look like this:\n",
        "\n",
        "<img src='assets/inference_example.png' width=300px>\n",
        "\n",
        "I will convert from the class integer encoding to actual flower names with the `cat_to_name.json` file. To show a PyTorch tensor as an image, I will use the `imshow` function defined above."
      ]
    },
    {
      "cell_type": "code",
      "metadata": {
        "id": "N7ame3KrBE1Y",
        "colab_type": "code",
        "outputId": "fdebd6d6-2c55-42e8-95c2-7f98011f7555",
        "colab": {
          "base_uri": "https://localhost:8080/",
          "height": 670
        }
      },
      "source": [
        "# Display an image along with the top 5 classes\n",
        "image_path = data_dir + '/test/5/image_05186.jpg'\n",
        "plot_probabilities(image_path, model)"
      ],
      "execution_count": 0,
      "outputs": [
        {
          "output_type": "stream",
          "text": [
            "True Flower category: english marigold(ID: 5)\n",
            "Flower names: ['english marigold', 'barbeton daisy', 'sunflower', 'orange dahlia', 'primula']\n",
            "Probabilities: [0.9829765558242798, 0.014797713607549667, 0.0010831886902451515, 0.00031764659797772765, 0.0002719686890486628]\n"
          ],
          "name": "stdout"
        },
        {
          "output_type": "display_data",
          "data": {
            "image/png": "[encoded data removed]",
            "text/plain": [
              "<Figure size 720x720 with 2 Axes>"
            ]
          },
          "metadata": {
            "tags": [],
            "needs_background": "light"
          }
        }
      ]
    }
  ]
}